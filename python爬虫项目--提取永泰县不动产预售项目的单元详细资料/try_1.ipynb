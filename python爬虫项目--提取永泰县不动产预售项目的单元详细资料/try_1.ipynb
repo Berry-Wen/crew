{
 "cells": [
  {
   "cell_type": "markdown",
   "metadata": {},
   "source": [
    "1. 导入相关库"
   ]
  },
  {
   "cell_type": "code",
   "execution_count": 1,
   "metadata": {},
   "outputs": [],
   "source": [
    "import re\n",
    "import requests\n",
    "from bs4 import BeautifulSoup"
   ]
  },
  {
   "cell_type": "code",
   "execution_count": 2,
   "metadata": {},
   "outputs": [],
   "source": [
    "html_asdjkjfaskl = 'http://220.160.23.161:8090/sd_web/'\n",
    "html_fdfdf = \"http://220.160.23.161:8090/sd_web/lp_detailinfo.jsp?id=2019034&type=-1\""
   ]
  },
  {
   "cell_type": "markdown",
   "metadata": {},
   "source": [
    "提取出福建五环开发商的温泉项目\n",
    "\n",
    "虽然不能直接从这个网页的源代码提取每个预售证号对应的html，但是观察规律可以看到为对应的字符串加入预售证号，如下："
   ]
  },
  {
   "cell_type": "code",
   "execution_count": 3,
   "metadata": {},
   "outputs": [],
   "source": [
    "# function 1\n",
    "# return list of 每个预售证号的html\n",
    "html_1_list = []\n",
    "for i in [2019036,2019034,2019033,2019032,2019029,2019027,2019024,2019012,2019006,2018036,2018034,2018032,2018030,2018015,2018013]:\n",
    "    str_i = \"http://220.160.23.161:8090/sd_web/lp_detailinfo.jsp?id={}&type=-1\".format(str(i))\n",
    "    # print(str_i)\n",
    "    html_1_list.append(str_i)\n",
    "# html_1_list为这个网页提取出来的每个预售证号的html\n",
    "# http://220.160.23.161:8090/sd_web/"
   ]
  },
  {
   "cell_type": "code",
   "execution_count": 4,
   "metadata": {},
   "outputs": [
    {
     "data": {
      "text/plain": [
       "['http://220.160.23.161:8090/sd_web/dy_list.jsp?l_bm=100007736',\n",
       " 'http://220.160.23.161:8090/sd_web/dy_list.jsp?l_bm=100007737']"
      ]
     },
     "execution_count": 4,
     "metadata": {},
     "output_type": "execute_result"
    }
   ],
   "source": [
    "# function 2\n",
    "# input: function 1 的输出，即每个预售证号的html\n",
    "# return: list of 点击查看其它楼栋 的html\n",
    "\n",
    "html = \"http://220.160.23.161:8090/sd_web/lp_detailinfo.jsp?id=2019036&type=-1\"\n",
    "html = requests.get(html)\n",
    "# print(html.text)\n",
    "html = BeautifulSoup(html.text)\n",
    "\n",
    "reg = re.compile(r'.*点击查看其它楼栋.*')\n",
    "list_slse_build = html.find(text=reg).parent.find_all('a')\n",
    "list_slse_build\n",
    "\n",
    "html_2_list = []\n",
    "for i in list_slse_build:\n",
    "    insert_value = i['href'][-10:-1]\n",
    "    str_build = \"http://220.160.23.161:8090/sd_web/dy_list.jsp?l_bm={}\".format(insert_value)\n",
    "    html_2_list.append(str_build)\n",
    "html_2_list"
   ]
  },
  {
   "cell_type": "markdown",
   "metadata": {},
   "source": [
    "上面的网址是点击查看其他楼栋的html，输出为一个列表，下面以第一个列表为例来访问每一个住宅"
   ]
  },
  {
   "cell_type": "code",
   "execution_count": 5,
   "metadata": {},
   "outputs": [
    {
     "data": {
      "text/plain": [
       "['http://220.160.23.161:8090/sd_web/dy_detailinfo.jsp?id=100007736-0045',\n",
       " 'http://220.160.23.161:8090/sd_web/dy_detailinfo.jsp?id=100007736-0046',\n",
       " 'http://220.160.23.161:8090/sd_web/dy_detailinfo.jsp?id=100007736-0047',\n",
       " 'http://220.160.23.161:8090/sd_web/dy_detailinfo.jsp?id=100007736-0048',\n",
       " 'http://220.160.23.161:8090/sd_web/dy_detailinfo.jsp?id=100007736-0049',\n",
       " 'http://220.160.23.161:8090/sd_web/dy_detailinfo.jsp?id=100007736-0050',\n",
       " 'http://220.160.23.161:8090/sd_web/dy_detailinfo.jsp?id=100007736-0051',\n",
       " 'http://220.160.23.161:8090/sd_web/dy_detailinfo.jsp?id=100007736-0052',\n",
       " 'http://220.160.23.161:8090/sd_web/dy_detailinfo.jsp?id=100007736-0053',\n",
       " 'http://220.160.23.161:8090/sd_web/dy_detailinfo.jsp?id=100007736-0054',\n",
       " 'http://220.160.23.161:8090/sd_web/dy_detailinfo.jsp?id=100007736-0055',\n",
       " 'http://220.160.23.161:8090/sd_web/dy_detailinfo.jsp?id=100007736-0056',\n",
       " 'http://220.160.23.161:8090/sd_web/dy_detailinfo.jsp?id=100007736-0057',\n",
       " 'http://220.160.23.161:8090/sd_web/dy_detailinfo.jsp?id=100007736-0058',\n",
       " 'http://220.160.23.161:8090/sd_web/dy_detailinfo.jsp?id=100007736-0059',\n",
       " 'http://220.160.23.161:8090/sd_web/dy_detailinfo.jsp?id=100007736-0060',\n",
       " 'http://220.160.23.161:8090/sd_web/dy_detailinfo.jsp?id=100007736-0061',\n",
       " 'http://220.160.23.161:8090/sd_web/dy_detailinfo.jsp?id=100007736-0062',\n",
       " 'http://220.160.23.161:8090/sd_web/dy_detailinfo.jsp?id=100007736-0063',\n",
       " 'http://220.160.23.161:8090/sd_web/dy_detailinfo.jsp?id=100007736-0064',\n",
       " 'http://220.160.23.161:8090/sd_web/dy_detailinfo.jsp?id=100007736-0065',\n",
       " 'http://220.160.23.161:8090/sd_web/dy_detailinfo.jsp?id=100007736-0066']"
      ]
     },
     "execution_count": 5,
     "metadata": {},
     "output_type": "execute_result"
    }
   ],
   "source": [
    "# function 3\n",
    "# input: function 2 的输出，即其他楼栋的html列表\n",
    "# output: 每一个其他楼栋中所有住房的html\n",
    "\n",
    "\n",
    "html_3 = \"http://220.160.23.161:8090/sd_web/dy_list.jsp?l_bm=100007736\"\n",
    "html_3 = requests.get(html_3)\n",
    "html_3 = BeautifulSoup(html_3.text)\n",
    "list_build = html_3.find_all(target=\"_blank\")\n",
    "# list_build\n",
    "# list_build[0]['href'][-14:]\n",
    "html_3_list = []\n",
    "for i in list_build:\n",
    "    # 这个insert_value其实就是单元编号\n",
    "    insert_value = i['href'][-14:]\n",
    "    str_build = \"http://220.160.23.161:8090/sd_web/dy_detailinfo.jsp?id={}\".format(insert_value)\n",
    "    html_3_list.append(str_build)\n",
    "html_3_list\n",
    "# http://220.160.23.161:8090/sd_web/dy_detailinfo.jsp?id=100007736-0045\n"
   ]
  },
  {
   "cell_type": "code",
   "execution_count": 6,
   "metadata": {},
   "outputs": [],
   "source": [
    "# function 4\n",
    "\n",
    "html_4 = \"http://220.160.23.161:8090/sd_web/dy_detailinfo.jsp?id=100007736-0045\"\n",
    "html_4 = requests.get(html_4)\n",
    "html_4 = BeautifulSoup(html_4.text)"
   ]
  },
  {
   "cell_type": "code",
   "execution_count": 13,
   "metadata": {},
   "outputs": [
    {
     "data": {
      "text/plain": [
       "<script type=\"text/javascript\">\n",
       "\t\tvar ss=\"永泰县城峰镇汤洋村上山院6号世茂永泰温泉小镇云悦2幢01店面01店面\";\n",
       "\t\tss=ss.replace(\"佛山市顺德区\",\"\");\n",
       "\t\t$(document).ready(function(){\n",
       "\t\t  $(\"#sss1\").html(ss);\n",
       "\t\t  });\n",
       "\t\t</script>"
      ]
     },
     "execution_count": 13,
     "metadata": {},
     "output_type": "execute_result"
    }
   ],
   "source": [
    "# 单元地址的信息是在head里面的，需要单独输出\n",
    "\n",
    "unit_location = html_4.head.find_all('script')\n",
    "unit_location = unit_location[2]\n",
    "# unit_location = unit_location[2].get_text().strip()\n",
    "# unit_location = unit_location.split()[1]\n",
    "# unit_location = unit_location[4:-2]\n",
    "unit_location"
   ]
  },
  {
   "cell_type": "code",
   "execution_count": 9,
   "metadata": {},
   "outputs": [],
   "source": [
    "# 其余的信息是在 tbody 里面的，需要进一步处理\n",
    "else_information = html_4.tbody\n",
    "else_information = else_information.find_all('tr')\n",
    "# else_information"
   ]
  },
  {
   "cell_type": "code",
   "execution_count": 10,
   "metadata": {},
   "outputs": [
    {
     "data": {
      "text/plain": [
       "['单元编号:', '100007736-0045', '单元名称:', '01店面']"
      ]
     },
     "execution_count": 10,
     "metadata": {},
     "output_type": "execute_result"
    }
   ],
   "source": [
    "else_information[0].get_text().split()"
   ]
  },
  {
   "cell_type": "code",
   "execution_count": 11,
   "metadata": {},
   "outputs": [
    {
     "name": "stdout",
     "output_type": "stream",
     "text": [
      "['单元编号:', '100007736-0045', '单元名称:', '01店面']\n",
      "['单元地址:', '所在镇(村居):']\n",
      "['房屋用途:', '商业服务', '房屋结构:', '钢混']\n",
      "['单元建筑面积:', '31.74', '平方米', '公建分摊面积:', '.99', '平方米']\n",
      "['套内建筑面积:', '30.75', '平方米', '单元状态:', '可售']\n",
      "['可售']\n",
      "[]\n",
      "['参考价:', '39000', '(元/m²)']\n"
     ]
    }
   ],
   "source": [
    "else_information_list = []\n",
    "for i in else_information:\n",
    "    else_information_i = i.get_text().split()\n",
    "    else_information_list.append(else_information_i)\n",
    "    print(i.get_text().split())"
   ]
  },
  {
   "cell_type": "code",
   "execution_count": 12,
   "metadata": {},
   "outputs": [],
   "source": [
    "unit_number = else_information_list[0][1] # 单元编号\n",
    "unit_name = else_information_list[0][3] # 单元名称\n",
    "house_use = else_information_list[2][0] # 房屋用途\n",
    "unit_area = else_information_list[3][1] # 单元建筑面积\n",
    "allocated_area_for_public_construction = else_information_list[3][4] # 公建分摊面积\n",
    "the_floor_area_within_the_suite = else_information_list[4][1] # 套内建筑面积\n",
    "unit_state = else_information_list[4][4] # 单元状态\n",
    "price = else_information_list[7][1] # 参考价"
   ]
  },
  {
   "cell_type": "code",
   "execution_count": 16,
   "metadata": {},
   "outputs": [
    {
     "name": "stdout",
     "output_type": "stream",
     "text": [
      " 单元编号: \t100007736-0045\n",
      " 单元名称: \t01店面\n",
      " 房屋用途: \t房屋用途:\n",
      " 单元建筑面积: \t31.74\n",
      " 公建分摊面积: \t.99\n",
      " 套内建筑面积: \t30.75\n",
      " 单元状态: \t可售\n",
      " 参考价: \t39000\n"
     ]
    }
   ],
   "source": [
    "print(' 单元编号: \\t{}\\n 单元名称: \\t{}\\n 房屋用途: \\t{}\\n 单元建筑面积: \\t{}\\n 公建分摊面积: \\t{}\\n 套内建筑面积: \\t{}\\n 单元状态: \\t{}\\n 参考价: \\t{}'.format(\n",
    "            unit_number,\n",
    "            unit_name,\n",
    "            house_use,\n",
    "            unit_area,\n",
    "            allocated_area_for_public_construction,\n",
    "            the_floor_area_within_the_suite,\n",
    "            unit_state,\n",
    "            price\n",
    "        ))"
   ]
  },
  {
   "cell_type": "code",
   "execution_count": null,
   "metadata": {},
   "outputs": [],
   "source": []
  }
 ],
 "metadata": {
  "interpreter": {
   "hash": "89621b2358ec4228165a13017970ea9f5bdc7f158bc4c007e945192720cab1bf"
  },
  "kernelspec": {
   "display_name": "Python 3.7.11 64-bit ('robust': conda)",
   "language": "python",
   "name": "python3"
  },
  "language_info": {
   "codemirror_mode": {
    "name": "ipython",
    "version": 3
   },
   "file_extension": ".py",
   "mimetype": "text/x-python",
   "name": "python",
   "nbconvert_exporter": "python",
   "pygments_lexer": "ipython3",
   "version": "3.8.8"
  },
  "orig_nbformat": 4
 },
 "nbformat": 4,
 "nbformat_minor": 2
}
