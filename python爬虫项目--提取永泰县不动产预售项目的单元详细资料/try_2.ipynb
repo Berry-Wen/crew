{
 "cells": [
  {
   "cell_type": "markdown",
   "metadata": {},
   "source": [
    "1. 导入相关库"
   ]
  },
  {
   "cell_type": "code",
   "execution_count": 2,
   "metadata": {},
   "outputs": [],
   "source": [
    "import re  # 正则表达式\n",
    "import time # 爬虫的模块，随机沉睡一部分访问，使得对网站的访问频率控制在一定限制内，防止反爬或者网站宕机\n",
    "\n",
    "import requests # 爬网页内容\n",
    "import numpy as np # 保存变量\n",
    "import pandas as pd # 保存结果到csv或者excel\n",
    "from bs4 import BeautifulSoup # 提取信息"
   ]
  },
  {
   "cell_type": "markdown",
   "metadata": {},
   "source": [
    "记录一下网页\n",
    "\n",
    "- html = http://220.160.23.161:8090/sd_web/\n",
    "\n",
    "- html = http://220.160.23.161:8090/sd_web/lp_detailinfo.jsp?id=2019034&type=-1"
   ]
  },
  {
   "cell_type": "markdown",
   "metadata": {},
   "source": [
    "提取出福建五环开发商的温泉项目\n",
    "\n",
    "虽然不能直接从这个网页的源代码提取每个预售证号对应的html，但是观察规律可以看到为对应的字符串加入预售证号，如下："
   ]
  },
  {
   "cell_type": "code",
   "execution_count": 3,
   "metadata": {},
   "outputs": [],
   "source": [
    "def fun_1():\n",
    "    # function 1\n",
    "    # return list of 每个预售证号的html\n",
    "    html_1_list = []\n",
    "    dict_html_1 = {}\n",
    "    # for i in [2019036,2019034,2019033,2019032,2019029,2019027,2019024,2019012,2019006,2018036,2018034,2018032,2018030,2018015,2018013]:\n",
    "    for i in [2019036,2019034,2019033,2019032,2019029,2019027,2019024,2019012,2019006,2018036,2018034,2018032,2018030,2018015,2018013]:\n",
    "        str_i = \"http://220.160.23.161:8090/sd_web/lp_detailinfo.jsp?id={}&type=-1\".format(str(i))\n",
    "        # print(str_i)\n",
    "        dict_html_1['{}'.format(i)] = str_i\n",
    "        html_1_list.append(str_i)\n",
    "    # html_1_list为这个网页提取出来的每个预售证号的html\n",
    "    # http://220.160.23.161:8090/sd_web/\n",
    "    return html_1_list, dict_html_1\n",
    "html_1_list, dict_html_1 = fun_1()"
   ]
  },
  {
   "cell_type": "code",
   "execution_count": 4,
   "metadata": {},
   "outputs": [
    {
     "data": {
      "text/plain": [
       "{'2019036': 'http://220.160.23.161:8090/sd_web/lp_detailinfo.jsp?id=2019036&type=-1',\n",
       " '2019034': 'http://220.160.23.161:8090/sd_web/lp_detailinfo.jsp?id=2019034&type=-1',\n",
       " '2019033': 'http://220.160.23.161:8090/sd_web/lp_detailinfo.jsp?id=2019033&type=-1',\n",
       " '2019032': 'http://220.160.23.161:8090/sd_web/lp_detailinfo.jsp?id=2019032&type=-1',\n",
       " '2019029': 'http://220.160.23.161:8090/sd_web/lp_detailinfo.jsp?id=2019029&type=-1',\n",
       " '2019027': 'http://220.160.23.161:8090/sd_web/lp_detailinfo.jsp?id=2019027&type=-1',\n",
       " '2019024': 'http://220.160.23.161:8090/sd_web/lp_detailinfo.jsp?id=2019024&type=-1',\n",
       " '2019012': 'http://220.160.23.161:8090/sd_web/lp_detailinfo.jsp?id=2019012&type=-1',\n",
       " '2019006': 'http://220.160.23.161:8090/sd_web/lp_detailinfo.jsp?id=2019006&type=-1',\n",
       " '2018036': 'http://220.160.23.161:8090/sd_web/lp_detailinfo.jsp?id=2018036&type=-1',\n",
       " '2018034': 'http://220.160.23.161:8090/sd_web/lp_detailinfo.jsp?id=2018034&type=-1',\n",
       " '2018032': 'http://220.160.23.161:8090/sd_web/lp_detailinfo.jsp?id=2018032&type=-1',\n",
       " '2018030': 'http://220.160.23.161:8090/sd_web/lp_detailinfo.jsp?id=2018030&type=-1',\n",
       " '2018015': 'http://220.160.23.161:8090/sd_web/lp_detailinfo.jsp?id=2018015&type=-1',\n",
       " '2018013': 'http://220.160.23.161:8090/sd_web/lp_detailinfo.jsp?id=2018013&type=-1'}"
      ]
     },
     "execution_count": 4,
     "metadata": {},
     "output_type": "execute_result"
    }
   ],
   "source": [
    "# 查看第一步得到的网址，并保存\n",
    "# np.save('html_1_list_2_version', html_1_list)\n",
    "np.save('dict_html_1', dict_html_1)\n",
    "# html_1_list\n",
    "dict_html_1"
   ]
  },
  {
   "cell_type": "code",
   "execution_count": 7,
   "metadata": {},
   "outputs": [],
   "source": [
    "def fun_2(html_1_list):\n",
    "    # function 2\n",
    "    # input: function 1 的输出，即每个预售证号的html\n",
    "    # return: list of 点击查看其它楼栋 的html\n",
    "    html_2_list = []\n",
    "    dict_html_2 = {}\n",
    "    for k,v in dict_html_1.items():\n",
    "        dict_html_2[k] = [] # 创建空字典来储存网址\n",
    "\n",
    "    # for html in html_1_list:\n",
    "    for k,html in dict_html_1.items():\n",
    "        # html = \"http://220.160.23.161:8090/sd_web/lp_detailinfo.jsp?id=2019036&type=-1\"\n",
    "        html = requests.get(html)\n",
    "        # print(html.text)\n",
    "        html = BeautifulSoup(html.text)\n",
    "\n",
    "        reg = re.compile(r'.*点击查看其它楼栋.*')\n",
    "        list_slse_build = html.find(text=reg).parent.find_all('a')\n",
    "        list_slse_build\n",
    "\n",
    "        # html_2_list = []\n",
    "        for i in list_slse_build:\n",
    "            insert_value = i['href'][-10:-1]\n",
    "            str_build = \"http://220.160.23.161:8090/sd_web/dy_list.jsp?l_bm={}\".format(insert_value)\n",
    "            html_2_list.append(str_build)\n",
    "            dict_html_2[k].append(str_build)\n",
    "    return html_2_list, dict_html_2\n",
    "html_2_list, dict_html_2 = fun_2(html_1_list)"
   ]
  },
  {
   "cell_type": "code",
   "execution_count": 8,
   "metadata": {},
   "outputs": [
    {
     "data": {
      "text/plain": [
       "['http://220.160.23.161:8090/sd_web/dy_list.jsp?l_bm=100007736',\n",
       " 'http://220.160.23.161:8090/sd_web/dy_list.jsp?l_bm=100007737',\n",
       " 'http://220.160.23.161:8090/sd_web/dy_list.jsp?l_bm=100007631',\n",
       " 'http://220.160.23.161:8090/sd_web/dy_list.jsp?l_bm=100007187',\n",
       " 'http://220.160.23.161:8090/sd_web/dy_list.jsp?l_bm=100007630',\n",
       " 'http://220.160.23.161:8090/sd_web/dy_list.jsp?l_bm=100007188',\n",
       " 'http://220.160.23.161:8090/sd_web/dy_list.jsp?l_bm=100007226',\n",
       " 'http://220.160.23.161:8090/sd_web/dy_list.jsp?l_bm=100007225',\n",
       " 'http://220.160.23.161:8090/sd_web/dy_list.jsp?l_bm=100007191',\n",
       " 'http://220.160.23.161:8090/sd_web/dy_list.jsp?l_bm=100007197',\n",
       " 'http://220.160.23.161:8090/sd_web/dy_list.jsp?l_bm=100007203',\n",
       " 'http://220.160.23.161:8090/sd_web/dy_list.jsp?l_bm=100007193',\n",
       " 'http://220.160.23.161:8090/sd_web/dy_list.jsp?l_bm=100007194',\n",
       " 'http://220.160.23.161:8090/sd_web/dy_list.jsp?l_bm=100007195',\n",
       " 'http://220.160.23.161:8090/sd_web/dy_list.jsp?l_bm=100007196',\n",
       " 'http://220.160.23.161:8090/sd_web/dy_list.jsp?l_bm=100007198',\n",
       " 'http://220.160.23.161:8090/sd_web/dy_list.jsp?l_bm=100007199',\n",
       " 'http://220.160.23.161:8090/sd_web/dy_list.jsp?l_bm=100007200',\n",
       " 'http://220.160.23.161:8090/sd_web/dy_list.jsp?l_bm=100007201',\n",
       " 'http://220.160.23.161:8090/sd_web/dy_list.jsp?l_bm=100007202',\n",
       " 'http://220.160.23.161:8090/sd_web/dy_list.jsp?l_bm=100007204',\n",
       " 'http://220.160.23.161:8090/sd_web/dy_list.jsp?l_bm=100007205',\n",
       " 'http://220.160.23.161:8090/sd_web/dy_list.jsp?l_bm=100007192',\n",
       " 'http://220.160.23.161:8090/sd_web/dy_list.jsp?l_bm=100007206',\n",
       " 'http://220.160.23.161:8090/sd_web/dy_list.jsp?l_bm=100007189',\n",
       " 'http://220.160.23.161:8090/sd_web/dy_list.jsp?l_bm=100007190',\n",
       " 'http://220.160.23.161:8090/sd_web/dy_list.jsp?l_bm=100007224',\n",
       " 'http://220.160.23.161:8090/sd_web/dy_list.jsp?l_bm=100003724',\n",
       " 'http://220.160.23.161:8090/sd_web/dy_list.jsp?l_bm=100003723',\n",
       " 'http://220.160.23.161:8090/sd_web/dy_list.jsp?l_bm=100003659',\n",
       " 'http://220.160.23.161:8090/sd_web/dy_list.jsp?l_bm=100003658',\n",
       " 'http://220.160.23.161:8090/sd_web/dy_list.jsp?l_bm=100003657',\n",
       " 'http://220.160.23.161:8090/sd_web/dy_list.jsp?l_bm=100003428',\n",
       " 'http://220.160.23.161:8090/sd_web/dy_list.jsp?l_bm=100003427',\n",
       " 'http://220.160.23.161:8090/sd_web/dy_list.jsp?l_bm=100003177',\n",
       " 'http://220.160.23.161:8090/sd_web/dy_list.jsp?l_bm=100003178',\n",
       " 'http://220.160.23.161:8090/sd_web/dy_list.jsp?l_bm=100003179',\n",
       " 'http://220.160.23.161:8090/sd_web/dy_list.jsp?l_bm=100003180',\n",
       " 'http://220.160.23.161:8090/sd_web/dy_list.jsp?l_bm=100003165',\n",
       " 'http://220.160.23.161:8090/sd_web/dy_list.jsp?l_bm=100003164',\n",
       " 'http://220.160.23.161:8090/sd_web/dy_list.jsp?l_bm=100003181',\n",
       " 'http://220.160.23.161:8090/sd_web/dy_list.jsp?l_bm=100003166',\n",
       " 'http://220.160.23.161:8090/sd_web/dy_list.jsp?l_bm=100003167',\n",
       " 'http://220.160.23.161:8090/sd_web/dy_list.jsp?l_bm=100003168',\n",
       " 'http://220.160.23.161:8090/sd_web/dy_list.jsp?l_bm=100003169',\n",
       " 'http://220.160.23.161:8090/sd_web/dy_list.jsp?l_bm=100003170',\n",
       " 'http://220.160.23.161:8090/sd_web/dy_list.jsp?l_bm=100003171',\n",
       " 'http://220.160.23.161:8090/sd_web/dy_list.jsp?l_bm=100003172',\n",
       " 'http://220.160.23.161:8090/sd_web/dy_list.jsp?l_bm=100003173',\n",
       " 'http://220.160.23.161:8090/sd_web/dy_list.jsp?l_bm=100003174',\n",
       " 'http://220.160.23.161:8090/sd_web/dy_list.jsp?l_bm=100003175',\n",
       " 'http://220.160.23.161:8090/sd_web/dy_list.jsp?l_bm=100003176',\n",
       " 'http://220.160.23.161:8090/sd_web/dy_list.jsp?l_bm=100003148',\n",
       " 'http://220.160.23.161:8090/sd_web/dy_list.jsp?l_bm=100003147',\n",
       " 'http://220.160.23.161:8090/sd_web/dy_list.jsp?l_bm=100003150',\n",
       " 'http://220.160.23.161:8090/sd_web/dy_list.jsp?l_bm=100003149',\n",
       " 'http://220.160.23.161:8090/sd_web/dy_list.jsp?l_bm=100003146',\n",
       " 'http://220.160.23.161:8090/sd_web/dy_list.jsp?l_bm=100003069',\n",
       " 'http://220.160.23.161:8090/sd_web/dy_list.jsp?l_bm=100003070',\n",
       " 'http://220.160.23.161:8090/sd_web/dy_list.jsp?l_bm=100003073',\n",
       " 'http://220.160.23.161:8090/sd_web/dy_list.jsp?l_bm=100003072',\n",
       " 'http://220.160.23.161:8090/sd_web/dy_list.jsp?l_bm=100003071',\n",
       " 'http://220.160.23.161:8090/sd_web/dy_list.jsp?l_bm=lick(7958',\n",
       " 'http://220.160.23.161:8090/sd_web/dy_list.jsp?l_bm=lick(7959',\n",
       " 'http://220.160.23.161:8090/sd_web/dy_list.jsp?l_bm=lick(7960',\n",
       " 'http://220.160.23.161:8090/sd_web/dy_list.jsp?l_bm=lick(7961',\n",
       " 'http://220.160.23.161:8090/sd_web/dy_list.jsp?l_bm=lick(7962',\n",
       " 'http://220.160.23.161:8090/sd_web/dy_list.jsp?l_bm=lick(7906',\n",
       " 'http://220.160.23.161:8090/sd_web/dy_list.jsp?l_bm=lick(7907',\n",
       " 'http://220.160.23.161:8090/sd_web/dy_list.jsp?l_bm=lick(7908',\n",
       " 'http://220.160.23.161:8090/sd_web/dy_list.jsp?l_bm=lick(7909',\n",
       " 'http://220.160.23.161:8090/sd_web/dy_list.jsp?l_bm=lick(7910',\n",
       " 'http://220.160.23.161:8090/sd_web/dy_list.jsp?l_bm=lick(7911',\n",
       " 'http://220.160.23.161:8090/sd_web/dy_list.jsp?l_bm=lick(7912',\n",
       " 'http://220.160.23.161:8090/sd_web/dy_list.jsp?l_bm=lick(7913',\n",
       " 'http://220.160.23.161:8090/sd_web/dy_list.jsp?l_bm=lick(7914',\n",
       " 'http://220.160.23.161:8090/sd_web/dy_list.jsp?l_bm=lick(7915',\n",
       " 'http://220.160.23.161:8090/sd_web/dy_list.jsp?l_bm=lick(7916',\n",
       " 'http://220.160.23.161:8090/sd_web/dy_list.jsp?l_bm=lick(7917',\n",
       " 'http://220.160.23.161:8090/sd_web/dy_list.jsp?l_bm=lick(7918',\n",
       " 'http://220.160.23.161:8090/sd_web/dy_list.jsp?l_bm=lick(7919',\n",
       " 'http://220.160.23.161:8090/sd_web/dy_list.jsp?l_bm=lick(7920',\n",
       " 'http://220.160.23.161:8090/sd_web/dy_list.jsp?l_bm=lick(7921',\n",
       " 'http://220.160.23.161:8090/sd_web/dy_list.jsp?l_bm=lick(7922',\n",
       " 'http://220.160.23.161:8090/sd_web/dy_list.jsp?l_bm=lick(7923',\n",
       " 'http://220.160.23.161:8090/sd_web/dy_list.jsp?l_bm=lick(7924',\n",
       " 'http://220.160.23.161:8090/sd_web/dy_list.jsp?l_bm=lick(7925',\n",
       " 'http://220.160.23.161:8090/sd_web/dy_list.jsp?l_bm=lick(7926',\n",
       " 'http://220.160.23.161:8090/sd_web/dy_list.jsp?l_bm=lick(7927',\n",
       " 'http://220.160.23.161:8090/sd_web/dy_list.jsp?l_bm=lick(7928']"
      ]
     },
     "execution_count": 8,
     "metadata": {},
     "output_type": "execute_result"
    }
   ],
   "source": [
    "html_2_list"
   ]
  },
  {
   "cell_type": "code",
   "execution_count": 25,
   "metadata": {},
   "outputs": [],
   "source": [
    "html_2_list, dict_html_2 = fun_2(html_1_list)"
   ]
  },
  {
   "cell_type": "markdown",
   "metadata": {},
   "source": [
    "因为2018013和2018015两个项目的网址不符合规范，所以需要单独拎出来处理，标准的网址如下\n",
    "\n",
    "http://220.160.23.161:8090/sd_web/dy_list.jsp?l_bm=7906\n",
    "\n",
    "但是按照上述方法处理的网址如下："
   ]
  },
  {
   "cell_type": "code",
   "execution_count": 9,
   "metadata": {},
   "outputs": [
    {
     "data": {
      "text/plain": [
       "['http://220.160.23.161:8090/sd_web/dy_list.jsp?l_bm=lick(7906',\n",
       " 'http://220.160.23.161:8090/sd_web/dy_list.jsp?l_bm=lick(7907',\n",
       " 'http://220.160.23.161:8090/sd_web/dy_list.jsp?l_bm=lick(7908',\n",
       " 'http://220.160.23.161:8090/sd_web/dy_list.jsp?l_bm=lick(7909',\n",
       " 'http://220.160.23.161:8090/sd_web/dy_list.jsp?l_bm=lick(7910',\n",
       " 'http://220.160.23.161:8090/sd_web/dy_list.jsp?l_bm=lick(7911',\n",
       " 'http://220.160.23.161:8090/sd_web/dy_list.jsp?l_bm=lick(7912',\n",
       " 'http://220.160.23.161:8090/sd_web/dy_list.jsp?l_bm=lick(7913',\n",
       " 'http://220.160.23.161:8090/sd_web/dy_list.jsp?l_bm=lick(7914',\n",
       " 'http://220.160.23.161:8090/sd_web/dy_list.jsp?l_bm=lick(7915',\n",
       " 'http://220.160.23.161:8090/sd_web/dy_list.jsp?l_bm=lick(7916',\n",
       " 'http://220.160.23.161:8090/sd_web/dy_list.jsp?l_bm=lick(7917',\n",
       " 'http://220.160.23.161:8090/sd_web/dy_list.jsp?l_bm=lick(7918',\n",
       " 'http://220.160.23.161:8090/sd_web/dy_list.jsp?l_bm=lick(7919',\n",
       " 'http://220.160.23.161:8090/sd_web/dy_list.jsp?l_bm=lick(7920',\n",
       " 'http://220.160.23.161:8090/sd_web/dy_list.jsp?l_bm=lick(7921',\n",
       " 'http://220.160.23.161:8090/sd_web/dy_list.jsp?l_bm=lick(7922',\n",
       " 'http://220.160.23.161:8090/sd_web/dy_list.jsp?l_bm=lick(7923',\n",
       " 'http://220.160.23.161:8090/sd_web/dy_list.jsp?l_bm=lick(7924',\n",
       " 'http://220.160.23.161:8090/sd_web/dy_list.jsp?l_bm=lick(7925',\n",
       " 'http://220.160.23.161:8090/sd_web/dy_list.jsp?l_bm=lick(7926',\n",
       " 'http://220.160.23.161:8090/sd_web/dy_list.jsp?l_bm=lick(7927',\n",
       " 'http://220.160.23.161:8090/sd_web/dy_list.jsp?l_bm=lick(7928']"
      ]
     },
     "execution_count": 9,
     "metadata": {},
     "output_type": "execute_result"
    }
   ],
   "source": [
    "dict_html_2['2018013']"
   ]
  },
  {
   "cell_type": "code",
   "execution_count": 10,
   "metadata": {},
   "outputs": [
    {
     "data": {
      "text/plain": [
       "['http://220.160.23.161:8090/sd_web/dy_list.jsp?l_bm=lick(7958',\n",
       " 'http://220.160.23.161:8090/sd_web/dy_list.jsp?l_bm=lick(7959',\n",
       " 'http://220.160.23.161:8090/sd_web/dy_list.jsp?l_bm=lick(7960',\n",
       " 'http://220.160.23.161:8090/sd_web/dy_list.jsp?l_bm=lick(7961',\n",
       " 'http://220.160.23.161:8090/sd_web/dy_list.jsp?l_bm=lick(7962']"
      ]
     },
     "execution_count": 10,
     "metadata": {},
     "output_type": "execute_result"
    }
   ],
   "source": [
    "dict_html_2['2018015']"
   ]
  },
  {
   "cell_type": "markdown",
   "metadata": {},
   "source": [
    "需要将链接后面的 'lick(' 去掉"
   ]
  },
  {
   "cell_type": "code",
   "execution_count": 11,
   "metadata": {},
   "outputs": [],
   "source": [
    "updata_1 = ['http://220.160.23.161:8090/sd_web/dy_list.jsp?l_bm=7906',\n",
    " 'http://220.160.23.161:8090/sd_web/dy_list.jsp?l_bm=7907',\n",
    " 'http://220.160.23.161:8090/sd_web/dy_list.jsp?l_bm=7908',\n",
    " 'http://220.160.23.161:8090/sd_web/dy_list.jsp?l_bm=7909',\n",
    " 'http://220.160.23.161:8090/sd_web/dy_list.jsp?l_bm=7910',\n",
    " 'http://220.160.23.161:8090/sd_web/dy_list.jsp?l_bm=7911',\n",
    " 'http://220.160.23.161:8090/sd_web/dy_list.jsp?l_bm=7912',\n",
    " 'http://220.160.23.161:8090/sd_web/dy_list.jsp?l_bm=7913',\n",
    " 'http://220.160.23.161:8090/sd_web/dy_list.jsp?l_bm=7914',\n",
    " 'http://220.160.23.161:8090/sd_web/dy_list.jsp?l_bm=7915',\n",
    " 'http://220.160.23.161:8090/sd_web/dy_list.jsp?l_bm=7916',\n",
    " 'http://220.160.23.161:8090/sd_web/dy_list.jsp?l_bm=7917',\n",
    " 'http://220.160.23.161:8090/sd_web/dy_list.jsp?l_bm=7918',\n",
    " 'http://220.160.23.161:8090/sd_web/dy_list.jsp?l_bm=7919',\n",
    " 'http://220.160.23.161:8090/sd_web/dy_list.jsp?l_bm=7920',\n",
    " 'http://220.160.23.161:8090/sd_web/dy_list.jsp?l_bm=7921',\n",
    " 'http://220.160.23.161:8090/sd_web/dy_list.jsp?l_bm=7922',\n",
    " 'http://220.160.23.161:8090/sd_web/dy_list.jsp?l_bm=7923',\n",
    " 'http://220.160.23.161:8090/sd_web/dy_list.jsp?l_bm=7924',\n",
    " 'http://220.160.23.161:8090/sd_web/dy_list.jsp?l_bm=7925',\n",
    " 'http://220.160.23.161:8090/sd_web/dy_list.jsp?l_bm=7926',\n",
    " 'http://220.160.23.161:8090/sd_web/dy_list.jsp?l_bm=7927',\n",
    " 'http://220.160.23.161:8090/sd_web/dy_list.jsp?l_bm=7928']\n",
    "\n",
    "updata_2 = ['http://220.160.23.161:8090/sd_web/dy_list.jsp?l_bm=7958',\n",
    " 'http://220.160.23.161:8090/sd_web/dy_list.jsp?l_bm=7959',\n",
    " 'http://220.160.23.161:8090/sd_web/dy_list.jsp?l_bm=7960',\n",
    " 'http://220.160.23.161:8090/sd_web/dy_list.jsp?l_bm=7961',\n",
    " 'http://220.160.23.161:8090/sd_web/dy_list.jsp?l_bm=7962']"
   ]
  },
  {
   "cell_type": "code",
   "execution_count": 12,
   "metadata": {},
   "outputs": [],
   "source": [
    "dict_html_2['2018013'] = updata_1\n",
    "dict_html_2['2018015'] = updata_2"
   ]
  },
  {
   "cell_type": "code",
   "execution_count": 13,
   "metadata": {},
   "outputs": [
    {
     "data": {
      "text/plain": [
       "['http://220.160.23.161:8090/sd_web/dy_list.jsp?l_bm=7958',\n",
       " 'http://220.160.23.161:8090/sd_web/dy_list.jsp?l_bm=7959',\n",
       " 'http://220.160.23.161:8090/sd_web/dy_list.jsp?l_bm=7960',\n",
       " 'http://220.160.23.161:8090/sd_web/dy_list.jsp?l_bm=7961',\n",
       " 'http://220.160.23.161:8090/sd_web/dy_list.jsp?l_bm=7962']"
      ]
     },
     "execution_count": 13,
     "metadata": {},
     "output_type": "execute_result"
    }
   ],
   "source": [
    "dict_html_2['2018015']"
   ]
  },
  {
   "cell_type": "code",
   "execution_count": 14,
   "metadata": {},
   "outputs": [],
   "source": [
    "# 保存变量\n",
    "np.save('dict_html_2', dict_html_2)"
   ]
  },
  {
   "cell_type": "code",
   "execution_count": 15,
   "metadata": {},
   "outputs": [],
   "source": [
    "list_updata = []\n",
    "for v in dict_html_2.values():\n",
    "    for i in v:\n",
    "        list_updata.append(i)\n",
    "np.save('html_2_list_2_version',list_updata)"
   ]
  },
  {
   "cell_type": "code",
   "execution_count": 16,
   "metadata": {},
   "outputs": [
    {
     "data": {
      "text/plain": [
       "['http://220.160.23.161:8090/sd_web/dy_list.jsp?l_bm=100007736',\n",
       " 'http://220.160.23.161:8090/sd_web/dy_list.jsp?l_bm=100007737',\n",
       " 'http://220.160.23.161:8090/sd_web/dy_list.jsp?l_bm=100007631',\n",
       " 'http://220.160.23.161:8090/sd_web/dy_list.jsp?l_bm=100007187',\n",
       " 'http://220.160.23.161:8090/sd_web/dy_list.jsp?l_bm=100007630']"
      ]
     },
     "execution_count": 16,
     "metadata": {},
     "output_type": "execute_result"
    }
   ],
   "source": [
    "# 查看第二步得到的网址，并保存\n",
    "np.save('html_2_list', html_2_list)\n",
    "html_2_list[:5] # 90个网址，这里为了美观显示前五个"
   ]
  },
  {
   "cell_type": "code",
   "execution_count": 61,
   "metadata": {},
   "outputs": [],
   "source": [
    "# dict_html_2"
   ]
  },
  {
   "cell_type": "markdown",
   "metadata": {},
   "source": [
    "访问每一个住宅，返回其html"
   ]
  },
  {
   "cell_type": "code",
   "execution_count": 17,
   "metadata": {},
   "outputs": [],
   "source": [
    "def fun_3(html_2_list):\n",
    "    # function 3\n",
    "    # input: function 2 的输出，即其他楼栋的html列表\n",
    "    # output: 每一个其他楼栋中所有住房的html\n",
    "    html_3_list = []\n",
    "    count = 1\n",
    "    dict_html_3 = {}\n",
    "    for k,v in dict_html_2.items():\n",
    "        dict_html_3[k] = [] # 创建空字典来储存网址\n",
    "\n",
    "\n",
    "    for k,html in dict_html_2.items():\n",
    "        for html_3 in html:\n",
    "            # for html_3 in html_2_list:\n",
    "            print('开始爬取第{}个网页，总共有90个网页'.format(count))\n",
    "            time.sleep(np.random.uniform(low=0,high=0.2)) # 沉睡0～0.2s\n",
    "            # html_3 = \"http://220.160.23.161:8090/sd_web/dy_list.jsp?l_bm=100007736\"\n",
    "            html_3 = requests.get(html_3)\n",
    "            html_3 = BeautifulSoup(html_3.text)\n",
    "            list_build = html_3.find_all(target=\"_blank\")\n",
    "            # list_build\n",
    "            # list_build[0]['href'][-14:]\n",
    "            # html_3_list = []\n",
    "            for i in list_build:\n",
    "                # 这个insert_value其实就是单元编号\n",
    "                insert_value = i['href'][-14:]\n",
    "                str_build = \"http://220.160.23.161:8090/sd_web/dy_detailinfo.jsp?id={}\".format(insert_value)\n",
    "                html_3_list.append(str_build)\n",
    "                dict_html_3[k].append(str_build)\n",
    "            # html_3_list\n",
    "            # http://220.160.23.161:8090/sd_web/dy_detailinfo.jsp?id=100007736-0045\n",
    "            count += 1\n",
    "    return html_3_list, dict_html_3"
   ]
  },
  {
   "cell_type": "code",
   "execution_count": 18,
   "metadata": {},
   "outputs": [
    {
     "name": "stdout",
     "output_type": "stream",
     "text": [
      "开始爬取第1个网页，总共有90个网页\n",
      "开始爬取第2个网页，总共有90个网页\n",
      "开始爬取第3个网页，总共有90个网页\n",
      "开始爬取第4个网页，总共有90个网页\n",
      "开始爬取第5个网页，总共有90个网页\n",
      "开始爬取第6个网页，总共有90个网页\n",
      "开始爬取第7个网页，总共有90个网页\n",
      "开始爬取第8个网页，总共有90个网页\n",
      "开始爬取第9个网页，总共有90个网页\n",
      "开始爬取第10个网页，总共有90个网页\n",
      "开始爬取第11个网页，总共有90个网页\n",
      "开始爬取第12个网页，总共有90个网页\n",
      "开始爬取第13个网页，总共有90个网页\n",
      "开始爬取第14个网页，总共有90个网页\n",
      "开始爬取第15个网页，总共有90个网页\n",
      "开始爬取第16个网页，总共有90个网页\n",
      "开始爬取第17个网页，总共有90个网页\n",
      "开始爬取第18个网页，总共有90个网页\n",
      "开始爬取第19个网页，总共有90个网页\n",
      "开始爬取第20个网页，总共有90个网页\n",
      "开始爬取第21个网页，总共有90个网页\n",
      "开始爬取第22个网页，总共有90个网页\n",
      "开始爬取第23个网页，总共有90个网页\n",
      "开始爬取第24个网页，总共有90个网页\n",
      "开始爬取第25个网页，总共有90个网页\n",
      "开始爬取第26个网页，总共有90个网页\n",
      "开始爬取第27个网页，总共有90个网页\n",
      "开始爬取第28个网页，总共有90个网页\n",
      "开始爬取第29个网页，总共有90个网页\n",
      "开始爬取第30个网页，总共有90个网页\n",
      "开始爬取第31个网页，总共有90个网页\n",
      "开始爬取第32个网页，总共有90个网页\n",
      "开始爬取第33个网页，总共有90个网页\n",
      "开始爬取第34个网页，总共有90个网页\n",
      "开始爬取第35个网页，总共有90个网页\n",
      "开始爬取第36个网页，总共有90个网页\n",
      "开始爬取第37个网页，总共有90个网页\n",
      "开始爬取第38个网页，总共有90个网页\n",
      "开始爬取第39个网页，总共有90个网页\n",
      "开始爬取第40个网页，总共有90个网页\n",
      "开始爬取第41个网页，总共有90个网页\n",
      "开始爬取第42个网页，总共有90个网页\n",
      "开始爬取第43个网页，总共有90个网页\n",
      "开始爬取第44个网页，总共有90个网页\n",
      "开始爬取第45个网页，总共有90个网页\n",
      "开始爬取第46个网页，总共有90个网页\n",
      "开始爬取第47个网页，总共有90个网页\n",
      "开始爬取第48个网页，总共有90个网页\n",
      "开始爬取第49个网页，总共有90个网页\n",
      "开始爬取第50个网页，总共有90个网页\n",
      "开始爬取第51个网页，总共有90个网页\n",
      "开始爬取第52个网页，总共有90个网页\n",
      "开始爬取第53个网页，总共有90个网页\n",
      "开始爬取第54个网页，总共有90个网页\n",
      "开始爬取第55个网页，总共有90个网页\n",
      "开始爬取第56个网页，总共有90个网页\n",
      "开始爬取第57个网页，总共有90个网页\n",
      "开始爬取第58个网页，总共有90个网页\n",
      "开始爬取第59个网页，总共有90个网页\n",
      "开始爬取第60个网页，总共有90个网页\n",
      "开始爬取第61个网页，总共有90个网页\n",
      "开始爬取第62个网页，总共有90个网页\n",
      "开始爬取第63个网页，总共有90个网页\n",
      "开始爬取第64个网页，总共有90个网页\n",
      "开始爬取第65个网页，总共有90个网页\n",
      "开始爬取第66个网页，总共有90个网页\n",
      "开始爬取第67个网页，总共有90个网页\n",
      "开始爬取第68个网页，总共有90个网页\n",
      "开始爬取第69个网页，总共有90个网页\n",
      "开始爬取第70个网页，总共有90个网页\n",
      "开始爬取第71个网页，总共有90个网页\n",
      "开始爬取第72个网页，总共有90个网页\n",
      "开始爬取第73个网页，总共有90个网页\n",
      "开始爬取第74个网页，总共有90个网页\n",
      "开始爬取第75个网页，总共有90个网页\n",
      "开始爬取第76个网页，总共有90个网页\n",
      "开始爬取第77个网页，总共有90个网页\n",
      "开始爬取第78个网页，总共有90个网页\n",
      "开始爬取第79个网页，总共有90个网页\n",
      "开始爬取第80个网页，总共有90个网页\n",
      "开始爬取第81个网页，总共有90个网页\n",
      "开始爬取第82个网页，总共有90个网页\n",
      "开始爬取第83个网页，总共有90个网页\n",
      "开始爬取第84个网页，总共有90个网页\n",
      "开始爬取第85个网页，总共有90个网页\n",
      "开始爬取第86个网页，总共有90个网页\n",
      "开始爬取第87个网页，总共有90个网页\n",
      "开始爬取第88个网页，总共有90个网页\n",
      "开始爬取第89个网页，总共有90个网页\n",
      "开始爬取第90个网页，总共有90个网页\n"
     ]
    }
   ],
   "source": [
    "# html_3_list = fun_3(html_2_list)\n",
    "html_3_list, dict_html_3 = fun_3(list_updata)"
   ]
  },
  {
   "cell_type": "code",
   "execution_count": 19,
   "metadata": {},
   "outputs": [],
   "source": [
    "# 先保存一份不正确的html\n",
    "np.save('dict_html_3', dict_html_3)"
   ]
  },
  {
   "cell_type": "code",
   "execution_count": 20,
   "metadata": {},
   "outputs": [
    {
     "data": {
      "text/plain": [
       "'http://220.160.23.161:8090/sd_web/dy_detailinfo.jsp?id=.jsp?id=7958-1'"
      ]
     },
     "execution_count": 20,
     "metadata": {},
     "output_type": "execute_result"
    }
   ],
   "source": [
    "a = dict_html_3['2018015'][0]\n",
    "a"
   ]
  },
  {
   "cell_type": "code",
   "execution_count": 21,
   "metadata": {},
   "outputs": [
    {
     "data": {
      "text/plain": [
       "'http://220.160.23.161:8090/sd_web/dy_detailinfo.jsp?id=7958-1'"
      ]
     },
     "execution_count": 21,
     "metadata": {},
     "output_type": "execute_result"
    }
   ],
   "source": [
    "a.replace('.jsp?id=','',1)"
   ]
  },
  {
   "cell_type": "code",
   "execution_count": 22,
   "metadata": {},
   "outputs": [
    {
     "data": {
      "text/plain": [
       "'http://220.160.23.161:8090/sd_web/dy_detailinfo.jsp?id=.jsp?id=7906-1'"
      ]
     },
     "execution_count": 22,
     "metadata": {},
     "output_type": "execute_result"
    }
   ],
   "source": [
    "dict_html_3['2018013'][0]"
   ]
  },
  {
   "cell_type": "code",
   "execution_count": 23,
   "metadata": {},
   "outputs": [
    {
     "data": {
      "text/plain": [
       "'http://220.160.23.161:8090/sd_web/dy_detailinfo.jsp?id=.jsp?id=7958-1'"
      ]
     },
     "execution_count": 23,
     "metadata": {},
     "output_type": "execute_result"
    }
   ],
   "source": [
    "dict_html_3['2018015'][0]"
   ]
  },
  {
   "cell_type": "code",
   "execution_count": 24,
   "metadata": {},
   "outputs": [
    {
     "data": {
      "text/plain": [
       "['http://220.160.23.161:8090/sd_web/dy_detailinfo.jsp?id=7906-1',\n",
       " 'http://220.160.23.161:8090/sd_web/dy_detailinfo.jsp?id=7906-2',\n",
       " 'http://220.160.23.161:8090/sd_web/dy_detailinfo.jsp?id=7906-3',\n",
       " 'http://220.160.23.161:8090/sd_web/dy_detailinfo.jsp?id=7906-5',\n",
       " 'http://220.160.23.161:8090/sd_web/dy_detailinfo.jsp?id=7906-6']"
      ]
     },
     "execution_count": 24,
     "metadata": {},
     "output_type": "execute_result"
    }
   ],
   "source": [
    "updata_3 = []\n",
    "# 2018013 可以这样处理，但是2019015不行\n",
    "# 注意，这里的代码只能执行一次，因为执行后 2018013 的值已经改变了，再执行会错误\n",
    "for k in dict_html_3['2018013']:\n",
    "    k = k.replace('.jsp?id=','',1)\n",
    "    updata_3.append(k)\n",
    "dict_html_3['2018013'] = updata_3\n",
    "updata_3[:5]"
   ]
  },
  {
   "cell_type": "code",
   "execution_count": 25,
   "metadata": {},
   "outputs": [
    {
     "data": {
      "text/plain": [
       "['http://220.160.23.161:8090/sd_web/dy_detailinfo.jsp?id=7958-1',\n",
       " 'http://220.160.23.161:8090/sd_web/dy_detailinfo.jsp?id=7958-10',\n",
       " 'http://220.160.23.161:8090/sd_web/dy_detailinfo.jsp?id=7958-100',\n",
       " 'http://220.160.23.161:8090/sd_web/dy_detailinfo.jsp?id=7958-101',\n",
       " 'http://220.160.23.161:8090/sd_web/dy_detailinfo.jsp?id=7958-102']"
      ]
     },
     "execution_count": 25,
     "metadata": {},
     "output_type": "execute_result"
    }
   ],
   "source": [
    "# 先对2018015粗处理\n",
    "updata_4 = []\n",
    "for k in dict_html_3['2018015']:\n",
    "    k = k.replace('jsp?id=','',1)\n",
    "    updata_4.append(k)\n",
    "\n",
    "# 然后对结果进行细细的微调\n",
    "# 首先去掉两个点的\n",
    "updata_4_1 = []\n",
    "for k in updata_4:\n",
    "    k = k.replace('..','.',1)\n",
    "    updata_4_1.append(k)\n",
    "\n",
    "# 然后再添加缺少j的\n",
    "updata_4_2 = []\n",
    "for k in updata_4_1:\n",
    "    k = k.replace('.sp?id','.jsp?id',1)\n",
    "    updata_4_2.append(k)\n",
    "# 处理完成\n",
    "dict_html_3['2018015'] = updata_4_2\n",
    "updata_4_2[:5]"
   ]
  },
  {
   "cell_type": "code",
   "execution_count": 26,
   "metadata": {},
   "outputs": [],
   "source": [
    "# 保存一份正确的html\n",
    "np.save('dict_html_3', dict_html_3)"
   ]
  },
  {
   "cell_type": "code",
   "execution_count": 35,
   "metadata": {},
   "outputs": [
    {
     "data": {
      "text/plain": [
       "5078"
      ]
     },
     "execution_count": 35,
     "metadata": {},
     "output_type": "execute_result"
    }
   ],
   "source": [
    "length_i = 0\n",
    "for v in dict_html_3.values():\n",
    "    length_i += len(v)\n",
    "length_i"
   ]
  },
  {
   "cell_type": "code",
   "execution_count": null,
   "metadata": {},
   "outputs": [],
   "source": [
    "# np.save('html_3_list', html_3_list)\n",
    "# print(len(html_3_list))\n",
    "# html_3_list[:5]"
   ]
  },
  {
   "cell_type": "markdown",
   "metadata": {},
   "source": [
    "爬到的网址一共有4180个，也就是说一共有4180个信息需要提取出来，不过需要注意fun3中第20行的网址，对于所有的住宅是否都是这种格式"
   ]
  },
  {
   "cell_type": "code",
   "execution_count": 60,
   "metadata": {},
   "outputs": [],
   "source": [
    "# 最后一步可以不用方程\n",
    "\n",
    "html_4 = \"http://220.160.23.161:8090/sd_web/dy_detailinfo.jsp?id=100007736-0046\"\n",
    "html_4 = requests.get(html_4)\n",
    "html_4 = BeautifulSoup(html_4.text)"
   ]
  },
  {
   "cell_type": "code",
   "execution_count": 74,
   "metadata": {},
   "outputs": [
    {
     "data": {
      "text/plain": [
       "('永泰县城峰镇汤洋村上山院6号世茂永泰温泉小镇云悦2幢02店面02店面', '佛山市顺德区')"
      ]
     },
     "execution_count": 74,
     "metadata": {},
     "output_type": "execute_result"
    }
   ],
   "source": [
    "# 单元地址的信息是在head里面的，需要单独输出\n",
    "\n",
    "unit_location = html_4.head.find_all('script')\n",
    "unit_location = unit_location[2].string.strip().split()\n",
    "unit_location_1 = unit_location[1][4:-2]\n",
    "unit_location_2 = unit_location[2][15:21]\n",
    "# unit_location = unit_location[2].get_text().strip()\n",
    "# unit_location = unit_location.split()[1]\n",
    "# unit_location = unit_location[4:-2]\n",
    "unit_location_1, unit_location_2"
   ]
  },
  {
   "cell_type": "code",
   "execution_count": 4,
   "metadata": {},
   "outputs": [],
   "source": [
    "# 其余的信息是在 tbody 里面的，需要进一步处理\n",
    "else_information = html_4.tbody\n",
    "else_information = else_information.find_all('tr')\n",
    "# else_information"
   ]
  },
  {
   "cell_type": "code",
   "execution_count": 5,
   "metadata": {},
   "outputs": [
    {
     "data": {
      "text/plain": [
       "['单元编号:', '100007736-0046', '单元名称:', '02店面']"
      ]
     },
     "execution_count": 5,
     "metadata": {},
     "output_type": "execute_result"
    }
   ],
   "source": [
    "else_information[0].get_text().split()"
   ]
  },
  {
   "cell_type": "code",
   "execution_count": 6,
   "metadata": {},
   "outputs": [
    {
     "name": "stdout",
     "output_type": "stream",
     "text": [
      "['单元编号:', '100007736-0046', '单元名称:', '02店面']\n",
      "['单元地址:', '所在镇(村居):']\n",
      "['房屋用途:', '商业服务', '房屋结构:', '钢混']\n",
      "['单元建筑面积:', '31.74', '平方米', '公建分摊面积:', '.99', '平方米']\n",
      "['套内建筑面积:', '30.75', '平方米', '单元状态:', '已售']\n",
      "['已售']\n",
      "[]\n",
      "['参考价:', '39000', '(元/m²)']\n"
     ]
    }
   ],
   "source": [
    "else_information_list = []\n",
    "for i in else_information:\n",
    "    else_information_i = i.get_text().split()\n",
    "    else_information_list.append(else_information_i)\n",
    "    print(i.get_text().split())"
   ]
  },
  {
   "cell_type": "code",
   "execution_count": null,
   "metadata": {},
   "outputs": [],
   "source": [
    "unit_number = else_information_list[0][1] # 单元编号\n",
    "unit_name = else_information_list[0][3] # 单元名称\n",
    "house_use = else_information_list[2][0] # 房屋用途\n",
    "unit_area = else_information_list[3][1] # 单元建筑面积\n",
    "allocated_area_for_public_construction = else_information_list[3][4] # 公建分摊面积\n",
    "the_floor_area_within_the_suite = else_information_list[4][1] # 套内建筑面积\n",
    "unit_state = else_information_list[4][4] # 单元状态\n",
    "price = else_information_list[7][1] # 参考价"
   ]
  },
  {
   "cell_type": "code",
   "execution_count": null,
   "metadata": {},
   "outputs": [],
   "source": [
    "print(' 单元编号: \\t{}\\n 单元名称: \\t{}\\n 房屋用途: \\t{}\\n 单元建筑面积: \\t{}\\n 公建分摊面积: \\t{}\\n 套内建筑面积: \\t{}\\n 单元状态: \\t{}\\n 参考价: \\t{}'.format(\n",
    "            unit_number,\n",
    "            unit_name,\n",
    "            house_use,\n",
    "            unit_area,\n",
    "            allocated_area_for_public_construction,\n",
    "            the_floor_area_within_the_suite,\n",
    "            unit_state,\n",
    "            price\n",
    "        ))"
   ]
  },
  {
   "cell_type": "code",
   "execution_count": null,
   "metadata": {},
   "outputs": [],
   "source": [
    "dict_data = {'单元编号': {}, '单元名称': {}, '房屋用途': {}, '单元建筑面积': {}, '公建分摊面积': {}, '套内建筑面积': {}, '单元状态': {}, '参考价': {}}\n",
    "data = pd.DataFrame(dict_data)\n",
    "data"
   ]
  },
  {
   "cell_type": "code",
   "execution_count": null,
   "metadata": {},
   "outputs": [],
   "source": [
    "dict_insert = {'单元编号': unit_number, '单元名称': unit_name, '房屋用途': house_use, '单元建筑面积': unit_area, '公建分摊面积': allocated_area_for_public_construction, '套内建筑面积': the_floor_area_within_the_suite, '单元状态': unit_state, '参考价': price}\n",
    "dict_insert"
   ]
  },
  {
   "cell_type": "code",
   "execution_count": null,
   "metadata": {},
   "outputs": [],
   "source": [
    "data.append(dict_insert, ignore_index=True)"
   ]
  },
  {
   "cell_type": "code",
   "execution_count": 2,
   "metadata": {},
   "outputs": [],
   "source": [
    "# 这一步可以不用，因为我刚刚网络错误，所以直接读取的原来爬取保存的信息\n",
    "html_3_list = np.load('html_3_list.npy')"
   ]
  },
  {
   "cell_type": "code",
   "execution_count": 3,
   "metadata": {},
   "outputs": [
    {
     "name": "stdout",
     "output_type": "stream",
     "text": [
      "网络错误\n"
     ]
    }
   ],
   "source": [
    "dict_data = {'单元编号': {}, '单元名称': {}, '房屋用途': {}, '单元建筑面积': {}, '公建分摊面积': {}, '套内建筑面积': {}, '单元状态': {}, '参考价': {}}\n",
    "data = pd.DataFrame(dict_data)\n",
    "\n",
    "for html_4 in html_3_list:\n",
    "    fail = 0\n",
    "    count_2 = 1\n",
    "    if count_2 % 100 == 0:\n",
    "        print('开始爬取第{}个网页，总共有4180个网页'.format(count_2))\n",
    "    time.sleep(np.random.uniform(low=0,high=0.2)) # 沉睡0～0.2s\n",
    "    try:\n",
    "        html_4 = requests.get(html_4)\n",
    "        html_4 = BeautifulSoup(html_4.text)\n",
    "    except:\n",
    "        # 跳出此次循环\n",
    "        fail += 1\n",
    "        print('网络错误')\n",
    "        continue\n",
    "    try:\n",
    "        # 单元地址的信息是在head里面的，需要单独输出\n",
    "        unit_location = html_4.head.find_all('script')\n",
    "        unit_location = unit_location[2].get_text().strip()\n",
    "        unit_location = unit_location.split()[1]\n",
    "        unit_location = unit_location[4:-2]\n",
    "        unit_location\n",
    "        # 其余的信息是在 tbody 里面的，需要进一步处理\n",
    "        else_information = html_4.tbody\n",
    "        else_information = else_information.find_all('tr')\n",
    "        # else_information\n",
    "        else_information_list = []\n",
    "        for i in else_information:\n",
    "            else_information_i = i.get_text().split()\n",
    "            else_information_list.append(else_information_i)\n",
    "            # print(i.get_text().split())\n",
    "        unit_number = else_information_list[0][1] # 单元编号\n",
    "        unit_name = else_information_list[0][3] # 单元名称\n",
    "        house_use = else_information_list[2][0] # 房屋用途\n",
    "        unit_area = else_information_list[3][1] # 单元建筑面积\n",
    "        allocated_area_for_public_construction = else_information_list[3][4] # 公建分摊面积\n",
    "        the_floor_area_within_the_suite = else_information_list[4][1] # 套内建筑面积\n",
    "        unit_state = else_information_list[4][4] # 单元状态\n",
    "        price = else_information_list[7][1] # 参考价\n",
    "        dict_insert = {'单元编号': unit_number, '单元名称': unit_name, '房屋用途': house_use, '单元建筑面积': unit_area, '公建分摊面积': allocated_area_for_public_construction, '套内建筑面积': the_floor_area_within_the_suite, '单元状态': unit_state, '参考价': price}\n",
    "        data = data.append(dict_insert, ignore_index=True)\n",
    "        data.to_csv('information.csv')\n",
    "    except:\n",
    "        fail += 1\n",
    "        print('其余错误')\n",
    "        continue"
   ]
  },
  {
   "cell_type": "code",
   "execution_count": null,
   "metadata": {},
   "outputs": [],
   "source": []
  }
 ],
 "metadata": {
  "interpreter": {
   "hash": "89621b2358ec4228165a13017970ea9f5bdc7f158bc4c007e945192720cab1bf"
  },
  "kernelspec": {
   "display_name": "Python 3 (ipykernel)",
   "language": "python",
   "name": "python3"
  },
  "language_info": {
   "codemirror_mode": {
    "name": "ipython",
    "version": 3
   },
   "file_extension": ".py",
   "mimetype": "text/x-python",
   "name": "python",
   "nbconvert_exporter": "python",
   "pygments_lexer": "ipython3",
   "version": "3.7.0"
  }
 },
 "nbformat": 4,
 "nbformat_minor": 2
}
